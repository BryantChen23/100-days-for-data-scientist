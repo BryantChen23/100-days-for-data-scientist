{
 "cells": [
  {
   "cell_type": "code",
   "execution_count": 1,
   "id": "eae32f29",
   "metadata": {},
   "outputs": [],
   "source": [
    "import numpy as np\n",
    "import matplotlib.pyplot as plt"
   ]
  },
  {
   "cell_type": "markdown",
   "id": "4a2971fe",
   "metadata": {},
   "source": [
    "## HW_1 完成MSE函式"
   ]
  },
  {
   "cell_type": "markdown",
   "id": "9a818256",
   "metadata": {},
   "source": [
    "$ MSE = \\frac{1}{n}\\sum_{i=1}^{n}{(Y_i - \\hat{Y}_i)^2} $"
   ]
  },
  {
   "cell_type": "code",
   "execution_count": 3,
   "id": "41f28c2c",
   "metadata": {},
   "outputs": [],
   "source": [
    "def Mean_ssquare_error(y,y_hat):\n",
    "    mse=(sum(y-y_hat))**2/len(y)\n",
    "    return mse"
   ]
  },
  {
   "cell_type": "markdown",
   "id": "7c85d5fa",
   "metadata": {},
   "source": [
    "## HW_2 於Kaggle Competitions 或 Dataset 找一組資料並回答分析問題"
   ]
  },
  {
   "cell_type": "markdown",
   "id": "0e86f586",
   "metadata": {},
   "source": [
    "### 資料集選擇"
   ]
  },
  {
   "cell_type": "markdown",
   "id": "f471ba35",
   "metadata": {},
   "source": [
    "[kaggle] Bosch Production Line Performance\n",
    "https://www.kaggle.com/c/bosch-production-line-performance/rules"
   ]
  },
  {
   "cell_type": "markdown",
   "id": "014a8c13",
   "metadata": {},
   "source": [
    "### 這組資料為何重要?"
   ]
  },
  {
   "cell_type": "markdown",
   "id": "a49bd47d",
   "metadata": {},
   "source": [
    "1. 對公司而言，在生產過程中提早發現生產異常，可以避免不良品的流出、盡早終止對不良品的加工有重工的可能、盡早發現問題可以降低錯誤的再次發生，對公司而言可以提質、增效、降本功用\n",
    "2. 此為產品生產過程中的數據，藉由數據分析產品是否為不良品"
   ]
  },
  {
   "cell_type": "markdown",
   "id": "158d286f",
   "metadata": {},
   "source": [
    "### 資料從何而來?"
   ]
  },
  {
   "cell_type": "markdown",
   "id": "deca8ced",
   "metadata": {},
   "source": [
    "1. Bosch-製造單位之生產數據"
   ]
  },
  {
   "cell_type": "markdown",
   "id": "fb0065b6",
   "metadata": {},
   "source": [
    "### 蒐集而來的資料型態為何?"
   ]
  },
  {
   "cell_type": "markdown",
   "id": "f896c95a",
   "metadata": {},
   "source": [
    "結構化資料"
   ]
  },
  {
   "cell_type": "markdown",
   "id": "1ac92271",
   "metadata": {},
   "source": [
    "### 這組資料想解決的問題如何評估?"
   ]
  },
  {
   "cell_type": "markdown",
   "id": "cb4710f2",
   "metadata": {},
   "source": [
    "評估此產品是否為不良品(二元分類)\n",
    "評估準則MCC => Mathew Correlation Coefficient"
   ]
  },
  {
   "cell_type": "markdown",
   "id": "f974b18d",
   "metadata": {},
   "source": [
    "## HW_3 想像你經營一個自由載客車隊，你希望能透過數據分析以提升業績，請你思考並描述你如何規劃整體的分析/解決方案"
   ]
  },
  {
   "cell_type": "markdown",
   "id": "5ebf9f41",
   "metadata": {},
   "source": [
    "### 定義目標與問題"
   ]
  },
  {
   "cell_type": "markdown",
   "id": "a4efebee",
   "metadata": {},
   "source": [
    "1. 透過數據分析的方法提升自由載客車隊的\"業績\""
   ]
  },
  {
   "cell_type": "markdown",
   "id": "ae011dae",
   "metadata": {},
   "source": [
    "### 轉換成數據分析題目"
   ]
  },
  {
   "cell_type": "markdown",
   "id": "5e834e85",
   "metadata": {},
   "source": [
    "1. 增加搭乘人次 \n",
    "1.1 叫車熱點預測"
   ]
  },
  {
   "cell_type": "markdown",
   "id": "960c44bf",
   "metadata": {},
   "source": [
    "### 資料蒐集"
   ]
  },
  {
   "cell_type": "markdown",
   "id": "667b8db2",
   "metadata": {},
   "source": [
    "1. 公司資料(乘客搭乘紀錄)"
   ]
  },
  {
   "cell_type": "markdown",
   "id": "85e99ea0",
   "metadata": {},
   "source": [
    "### 蒐集而來的資料型態為何"
   ]
  },
  {
   "cell_type": "markdown",
   "id": "b0608a61",
   "metadata": {},
   "source": [
    "1. 結構化資料"
   ]
  },
  {
   "cell_type": "markdown",
   "id": "e77867f3",
   "metadata": {},
   "source": [
    "### 你要回答的問題，其如何評估 (tips：你的假設如何驗證)"
   ]
  },
  {
   "cell_type": "markdown",
   "id": "9ceffe7b",
   "metadata": {},
   "source": [
    "1. "
   ]
  }
 ],
 "metadata": {
  "kernelspec": {
   "display_name": "Python 3",
   "language": "python",
   "name": "python3"
  },
  "language_info": {
   "codemirror_mode": {
    "name": "ipython",
    "version": 3
   },
   "file_extension": ".py",
   "mimetype": "text/x-python",
   "name": "python",
   "nbconvert_exporter": "python",
   "pygments_lexer": "ipython3",
   "version": "3.7.10"
  }
 },
 "nbformat": 4,
 "nbformat_minor": 5
}
